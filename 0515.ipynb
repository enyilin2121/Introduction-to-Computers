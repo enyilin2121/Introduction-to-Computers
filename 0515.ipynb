{
  "nbformat": 4,
  "nbformat_minor": 0,
  "metadata": {
    "colab": {
      "provenance": [],
      "authorship_tag": "ABX9TyO5VjAnvwzXybNKyjzol7X5",
      "include_colab_link": true
    },
    "kernelspec": {
      "name": "python3",
      "display_name": "Python 3"
    },
    "language_info": {
      "name": "python"
    }
  },
  "cells": [
    {
      "cell_type": "markdown",
      "metadata": {
        "id": "view-in-github",
        "colab_type": "text"
      },
      "source": [
        "<a href=\"https://colab.research.google.com/github/enyilin2121/Introduction-to-Computers/blob/main/0515.ipynb\" target=\"_parent\"><img src=\"https://colab.research.google.com/assets/colab-badge.svg\" alt=\"Open In Colab\"/></a>"
      ]
    },
    {
      "cell_type": "code",
      "execution_count": null,
      "metadata": {
        "colab": {
          "base_uri": "https://localhost:8080/"
        },
        "id": "hG5Bl9MNQvq1",
        "outputId": "89cabbf4-5a96-43fc-cc2d-fab65ec926f8"
      },
      "outputs": [
        {
          "output_type": "stream",
          "name": "stdout",
          "text": [
            "今天會下雨嗎?不會\n",
            "請重新輸入。\n"
          ]
        }
      ],
      "source": [
        "rain = str(input(\"今天會下雨嗎?\"))\n",
        "if (rain == \"Y\" or rain == \"y\"):\n",
        "  print(\"出門記得帶傘!\")\n",
        "else:\n",
        "  print(\"請重新輸入。\")"
      ]
    },
    {
      "cell_type": "code",
      "source": [
        "體溫 = float(input(\"體溫: \"))\n",
        "if 體溫 >= 37.5:\n",
        "    print('體溫過高')\n",
        "elif 37.4 >= 體溫 >= 37 :\n",
        "    print('體溫略高!')\n",
        "elif 36.9 >= 體溫 >= 34 :\n",
        "    print('體溫正常!')\n",
        "else:\n",
        "    print('體溫異常,請重新測量')"
      ],
      "metadata": {
        "colab": {
          "base_uri": "https://localhost:8080/"
        },
        "id": "V-KxK22-3nFY",
        "outputId": "54e3eeca-ab5d-4cd0-f9ca-7028e3d32d14"
      },
      "execution_count": null,
      "outputs": [
        {
          "output_type": "stream",
          "name": "stdout",
          "text": [
            "體溫: 37.2\n",
            "體溫略高!\n"
          ]
        }
      ]
    },
    {
      "cell_type": "code",
      "source": [
        "score = int(input(\"請輸入成績\"))\n",
        "if score >= 90:\n",
        "    print('A')\n",
        "elif score >= 80:\n",
        "    print('B')\n",
        "elif score >= 70:\n",
        "    print('C')\n",
        "elif score >= 60:\n",
        "    print('D')\n",
        "else:\n",
        "    print('E')"
      ],
      "metadata": {
        "colab": {
          "base_uri": "https://localhost:8080/"
        },
        "id": "KwVVTsy7xoC6",
        "outputId": "9dc04690-b1dd-4374-ad4b-d8de7cd73fd4"
      },
      "execution_count": null,
      "outputs": [
        {
          "output_type": "stream",
          "name": "stdout",
          "text": [
            "請輸入成績59\n",
            "E\n"
          ]
        }
      ]
    },
    {
      "cell_type": "code",
      "source": [
        "月份 = int(input(\"請輸入月份\"))\n",
        "if 3 <= 月份 <= 5:\n",
        "    print(月份,'月是春天!')\n",
        "elif 6 <= 月份 <= 8:\n",
        "    print(月份,'月是夏天!')\n",
        "elif 9 <= 月份 <= 11:\n",
        "    print(月份,'月是秋天!')\n",
        "elif 月份 == 12 or 1<= 月份 <= 2:\n",
        "    print(月份,'月是冬天!')\n",
        "else:\n",
        "    print('月份不在範圍內!')"
      ],
      "metadata": {
        "colab": {
          "base_uri": "https://localhost:8080/"
        },
        "id": "0EDZHtDx1fNe",
        "outputId": "fcbd5a43-4ed9-42a8-8992-70103a6c4e32"
      },
      "execution_count": null,
      "outputs": [
        {
          "output_type": "stream",
          "name": "stdout",
          "text": [
            "請輸入月份13\n",
            "月份不在範圍內!\n"
          ]
        }
      ]
    },
    {
      "cell_type": "code",
      "source": [
        "收入 = float(input(\"請輸入今年收入淨額:\"))\n",
        "if 收入 >= 2000000:\n",
        "    print('付稅金額:',收入*0.3,'元')\n",
        "elif 收入 >= 1000000:\n",
        "    print('付稅金額:',收入*0.21,'元')\n",
        "elif 收入 >= 600000:\n",
        "    print('付稅金額:',收入*0.13,'元')\n",
        "elif 收入 >= 300000:\n",
        "    print('付稅金額:',收入*0.06,'元')\n",
        "else:\n",
        "    print('付稅金額:0元')"
      ],
      "metadata": {
        "id": "YZhwOWIA5M15",
        "colab": {
          "base_uri": "https://localhost:8080/"
        },
        "outputId": "41bf9aa4-a182-431d-e768-4f8191fc8335"
      },
      "execution_count": 5,
      "outputs": [
        {
          "output_type": "stream",
          "name": "stdout",
          "text": [
            "請輸入今年收入淨額:2000000\n",
            "付稅金額: 600000.0 元\n"
          ]
        }
      ]
    }
  ]
}