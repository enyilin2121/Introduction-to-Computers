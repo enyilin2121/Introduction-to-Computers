{
  "nbformat": 4,
  "nbformat_minor": 0,
  "metadata": {
    "colab": {
      "provenance": [],
      "authorship_tag": "ABX9TyOgF+UH0DV9hL/1CqCGDd/Y",
      "include_colab_link": true
    },
    "kernelspec": {
      "name": "python3",
      "display_name": "Python 3"
    },
    "language_info": {
      "name": "python"
    }
  },
  "cells": [
    {
      "cell_type": "markdown",
      "metadata": {
        "id": "view-in-github",
        "colab_type": "text"
      },
      "source": [
        "<a href=\"https://colab.research.google.com/github/enyilin2121/Introduction-to-Computers/blob/main/%E6%9C%83%E8%A8%88%E4%B8%80A_%E6%9E%97%E6%81%A9%E5%84%80_411600496.ipynb\" target=\"_parent\"><img src=\"https://colab.research.google.com/assets/colab-badge.svg\" alt=\"Open In Colab\"/></a>"
      ]
    },
    {
      "cell_type": "code",
      "execution_count": null,
      "metadata": {
        "colab": {
          "base_uri": "https://localhost:8080/"
        },
        "id": "koljAyLrTA5L",
        "outputId": "7557f8b5-cec5-428e-9e45-0c1bca145e83"
      },
      "outputs": [
        {
          "output_type": "stream",
          "name": "stdout",
          "text": [
            "Hellow World\n"
          ]
        }
      ],
      "source": [
        "print(\"Hellow World\")"
      ]
    },
    {
      "cell_type": "code",
      "source": [
        "F = float ( input ( '華氏溫度:' ) )\n",
        "攝氏溫度 = (F-32)*5/9\n",
        "print ( '攝氏溫度:' , '%.1f' % 攝氏溫度)"
      ],
      "metadata": {
        "colab": {
          "base_uri": "https://localhost:8080/"
        },
        "id": "VhLwHzX8bdgZ",
        "outputId": "da8b994c-6c93-423a-ad06-edebe97fc258"
      },
      "execution_count": null,
      "outputs": [
        {
          "output_type": "stream",
          "name": "stdout",
          "text": [
            "華氏溫度:100\n",
            "攝氏溫度: 37.8\n"
          ]
        }
      ]
    },
    {
      "cell_type": "code",
      "source": [
        "h = 0\n",
        "for i in range (1,6):\n",
        "  h +=i\n",
        "  print(h)"
      ],
      "metadata": {
        "colab": {
          "base_uri": "https://localhost:8080/"
        },
        "id": "cSQ3L5_ihdCt",
        "outputId": "db9882e7-4467-4cec-d191-9ffcf0f52968"
      },
      "execution_count": 11,
      "outputs": [
        {
          "output_type": "stream",
          "name": "stdout",
          "text": [
            "1\n",
            "3\n",
            "6\n",
            "10\n",
            "15\n"
          ]
        }
      ]
    },
    {
      "cell_type": "code",
      "source": [
        "本金存款金額 = float ( input ( '請輸入本金存款金額:' ) )\n",
        "years = 1.02\n",
        "years **= 6\n",
        "六年後 = 本金存款金額 * years\n",
        "print ( '6年後存款為:' , 六年後 )"
      ],
      "metadata": {
        "colab": {
          "base_uri": "https://localhost:8080/"
        },
        "id": "vHlSPil4n0rW",
        "outputId": "664ccf76-ccae-4e7c-80ee-fa2d37e072fd"
      },
      "execution_count": null,
      "outputs": [
        {
          "output_type": "stream",
          "name": "stdout",
          "text": [
            "請輸入本金存款金額:10000\n",
            "6年後存款為: 11261.62419264\n"
          ]
        }
      ]
    }
  ]
}